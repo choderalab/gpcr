{
 "metadata": {
  "name": "",
  "signature": "sha256:54368ae9db25da4ddd35dd164a0028ac024aa492c8bb638c7f97f39de6a5b9da"
 },
 "nbformat": 3,
 "nbformat_minor": 0,
 "worksheets": [
  {
   "cells": [
    {
     "cell_type": "code",
     "collapsed": false,
     "input": [
      "%matplotlib inline\n",
      "import mdtraj as md\n",
      "import mixtape.featurizer, mixtape.cluster\n",
      "import glob\n",
      "import numpy as np\n",
      "import matplotlib.pyplot as plt\n"
     ],
     "language": "python",
     "metadata": {},
     "outputs": [],
     "prompt_number": 1
    },
    {
     "cell_type": "code",
     "collapsed": false,
     "input": [
      "ACTIVE = md.load_pdb('../../../exacycleGPCR/GPCR_NatureChemistry/reference-structures/active_crystal_reference.pdb')\n",
      "INACTIVE = md.load('../../../exacycleGPCR/GPCR_NatureChemistry/reference-structures/inactive_crystal_reference.pdb')\n",
      "APO = md.load('../../../exacycleGPCR/GPCR_NatureChemistry/reference-structures/apo_snapshot.pdb')\n",
      "\n",
      "filenames = glob.glob('../../../exacycleGPCR/dcd_trajectories/apo_b2ar/trj11*')\n",
      "traj = [md.load(filename, top=APO) for filename in filenames]\n",
      "table, bonds = traj[1].topology.to_dataframe()\n",
      "\n",
      "# atom selections\n",
      "I121_F282 = table[(table['resSeq'] == 121) | (table['resSeq'] == 282)].index  \n",
      "NPxxY = {'resSeq': [322,323,324,325,326,327]}\n",
      "NPxxY_region = table[table.isin(NPxxY).any(1)].index\n",
      "R131_L272 = table[(table['resSeq'] == 131) & (table['name'] == 'CA') | (table['resSeq'] == 272) & (table['name'] == 'CA')].index"
     ],
     "language": "python",
     "metadata": {},
     "outputs": [],
     "prompt_number": 13
    },
    {
     "cell_type": "code",
     "collapsed": false,
     "input": [
      "distance = np.array([R131_L272])\n",
      "Hel3_Hel6_dist = mixtape.featurizer.AtomPairsFeaturizer(distance)\n",
      "NPxxY_RMSD = mixtape.featurizer.RMSDFeaturizer(APO, NPxxY_region)\n",
      "Connector_RMSD = mixtape.featurizer.RMSDFeaturizer(APO, I121_F282)"
     ],
     "language": "python",
     "metadata": {},
     "outputs": [],
     "prompt_number": 18
    },
    {
     "cell_type": "code",
     "collapsed": false,
     "input": [
      "union = mixtape.featurizer.TrajFeatureUnion([(\"Helical_distance\", Hel3_Hel6_dist), (\"NPxxYrmsd\", NPxxY_RMSD), (\"connecector\", Connector_RMSD)])\n",
      "combined_features = union.fit_transform(traj)"
     ],
     "language": "python",
     "metadata": {},
     "outputs": [],
     "prompt_number": 19
    },
    {
     "cell_type": "code",
     "collapsed": false,
     "input": [
      "cluster = mixtape.cluster.GMM(n_components=3, covariance_type='diag')\n",
      "cluster.fit(traj)"
     ],
     "language": "python",
     "metadata": {},
     "outputs": []
    },
    {
     "cell_type": "code",
     "collapsed": false,
     "input": [
      "Distance = mixtape.featurizer.AtomPairsFeaturizer(distance)"
     ],
     "language": "python",
     "metadata": {},
     "outputs": [],
     "prompt_number": 12
    },
    {
     "cell_type": "code",
     "collapsed": false,
     "input": [
      "Hel3_Hel6_distance = [Distance.partial_transform(t) for t in traj]"
     ],
     "language": "python",
     "metadata": {},
     "outputs": [],
     "prompt_number": 13
    },
    {
     "cell_type": "code",
     "collapsed": false,
     "input": [
      "RMSD1 = mixtape.featurizer.RMSDFeaturizer(APO, NPxxY_region)"
     ],
     "language": "python",
     "metadata": {},
     "outputs": [],
     "prompt_number": 14
    },
    {
     "cell_type": "code",
     "collapsed": false,
     "input": [
      "NPxxY_RMSD = [RMSD1.partial_transform(t) for t in traj]"
     ],
     "language": "python",
     "metadata": {},
     "outputs": [],
     "prompt_number": 15
    },
    {
     "cell_type": "code",
     "collapsed": false,
     "input": [
      "RMSD2 = mixtape.featurizer.RMSDFeaturizer(APO, I121_F282)"
     ],
     "language": "python",
     "metadata": {},
     "outputs": [],
     "prompt_number": 16
    },
    {
     "cell_type": "code",
     "collapsed": false,
     "input": [
      "connector_RMSD = [RMSD2.partial_transform(t) for t in traj]"
     ],
     "language": "python",
     "metadata": {},
     "outputs": [],
     "prompt_number": 17
    },
    {
     "cell_type": "code",
     "collapsed": false,
     "input": [
      "%matplotlib inline\n",
      "import matplotlib.pyplot as plt"
     ],
     "language": "python",
     "metadata": {},
     "outputs": [],
     "prompt_number": 18
    },
    {
     "cell_type": "code",
     "collapsed": false,
     "input": [
      "Distance_all = np.concatenate(Hel3_Hel6_distance)"
     ],
     "language": "python",
     "metadata": {},
     "outputs": [],
     "prompt_number": 19
    },
    {
     "cell_type": "code",
     "collapsed": false,
     "input": [
      "RMSD_all = np.concatenate(NPxxY_RMSD)"
     ],
     "language": "python",
     "metadata": {},
     "outputs": [],
     "prompt_number": 20
    },
    {
     "cell_type": "code",
     "collapsed": true,
     "input": [
      "connector_all = np.concatenate(connector_RMSD)"
     ],
     "language": "python",
     "metadata": {},
     "outputs": [],
     "prompt_number": 21
    },
    {
     "cell_type": "code",
     "collapsed": false,
     "input": [
      "RMSD_all.shape"
     ],
     "language": "python",
     "metadata": {},
     "outputs": [
      {
       "metadata": {},
       "output_type": "pyout",
       "prompt_number": 22,
       "text": [
        "(2965, 1)"
       ]
      }
     ],
     "prompt_number": 22
    },
    {
     "cell_type": "code",
     "collapsed": false,
     "input": [
      "plt.hexbin(Distance_all,RMSD_all)"
     ],
     "language": "python",
     "metadata": {},
     "outputs": [
      {
       "metadata": {},
       "output_type": "pyout",
       "prompt_number": 23,
       "text": [
        "<matplotlib.collections.PolyCollection at 0x10d03c410>"
       ]
      },
      {
       "metadata": {},
       "output_type": "display_data",
       "png": "[encoded data removed]",
       "text": [
        "<matplotlib.figure.Figure at 0x10c63fcd0>"
       ]
      }
     ],
     "prompt_number": 23
    },
    {
     "cell_type": "code",
     "collapsed": false,
     "input": [
      "plt.hist(RMSD_all, bins=50)"
     ],
     "language": "python",
     "metadata": {},
     "outputs": [
      {
       "metadata": {},
       "output_type": "pyout",
       "prompt_number": 24,
       "text": [
        "(array([   1.,    1.,    0.,    1.,    3.,    7.,    0.,    1.,    4.,\n",
        "           1.,    6.,    8.,    9.,   12.,   28.,   51.,   58.,   78.,\n",
        "         113.,  128.,  150.,  179.,  184.,  195.,  208.,  217.,  206.,\n",
        "         209.,  176.,  131.,  119.,  110.,   86.,   60.,   68.,   36.,\n",
        "          27.,   13.,   15.,    9.,    8.,    5.,    7.,    9.,    7.,\n",
        "           7.,    4.,    4.,    4.,    2.]),\n",
        " array([ 0.04383334,  0.04763792,  0.0514425 ,  0.05524707,  0.05905165,\n",
        "         0.06285623,  0.06666081,  0.07046539,  0.07426996,  0.07807454,\n",
        "         0.08187912,  0.0856837 ,  0.08948827,  0.09329285,  0.09709743,\n",
        "         0.10090201,  0.10470658,  0.10851116,  0.11231574,  0.11612032,\n",
        "         0.11992489,  0.12372947,  0.12753405,  0.13133863,  0.13514321,\n",
        "         0.13894778,  0.14275236,  0.14655694,  0.15036152,  0.15416609,\n",
        "         0.15797067,  0.16177525,  0.16557983,  0.1693844 ,  0.17318898,\n",
        "         0.17699356,  0.18079814,  0.18460272,  0.18840729,  0.19221187,\n",
        "         0.19601645,  0.19982103,  0.2036256 ,  0.20743018,  0.21123476,\n",
        "         0.21503934,  0.21884391,  0.22264849,  0.22645307,  0.23025765,\n",
        "         0.23406222]),\n",
        " <a list of 50 Patch objects>)"
       ]
      },
      {
       "metadata": {},
       "output_type": "display_data",
       "png": "[encoded data removed]",
       "text": [
        "<matplotlib.figure.Figure at 0x105f52990>"
       ]
      }
     ],
     "prompt_number": 24
    },
    {
     "cell_type": "code",
     "collapsed": false,
     "input": [
      "plt.hist(Distance_all, bins=50)"
     ],
     "language": "python",
     "metadata": {},
     "outputs": [
      {
       "metadata": {},
       "output_type": "pyout",
       "prompt_number": 25,
       "text": [
        "(array([   1.,    0.,    3.,    4.,    7.,   50.,   89.,  160.,  288.,\n",
        "         397.,  396.,  391.,  283.,  238.,  160.,   88.,   54.,   25.,\n",
        "          22.,   11.,    8.,    6.,    2.,    5.,    7.,   10.,    9.,\n",
        "          10.,   18.,   20.,   16.,   30.,   27.,   36.,   20.,   11.,\n",
        "          15.,   13.,    8.,    8.,    6.,    3.,    4.,    1.,    1.,\n",
        "           2.,    0.,    0.,    0.,    2.]),\n",
        " array([ 0.64183962,  0.65651913,  0.67119863,  0.68587813,  0.70055764,\n",
        "         0.71523714,  0.72991664,  0.74459615,  0.75927565,  0.77395515,\n",
        "         0.78863466,  0.80331416,  0.81799366,  0.83267317,  0.84735267,\n",
        "         0.86203218,  0.87671168,  0.89139118,  0.90607069,  0.92075019,\n",
        "         0.93542969,  0.9501092 ,  0.9647887 ,  0.9794682 ,  0.99414771,\n",
        "         1.00882721,  1.02350671,  1.03818622,  1.05286572,  1.06754522,\n",
        "         1.08222473,  1.09690423,  1.11158373,  1.12626324,  1.14094274,\n",
        "         1.15562224,  1.17030175,  1.18498125,  1.19966075,  1.21434026,\n",
        "         1.22901976,  1.24369926,  1.25837877,  1.27305827,  1.28773777,\n",
        "         1.30241728,  1.31709678,  1.33177629,  1.34645579,  1.36113529,\n",
        "         1.3758148 ]),\n",
        " <a list of 50 Patch objects>)"
       ]
      },
      {
       "metadata": {},
       "output_type": "display_data",
       "png": "[encoded data removed]",
       "text": [
        "<matplotlib.figure.Figure at 0x10d0b0d10>"
       ]
      }
     ],
     "prompt_number": 25
    },
    {
     "cell_type": "code",
     "collapsed": false,
     "input": [
      "plt.hist(connector_all, bins=50)"
     ],
     "language": "python",
     "metadata": {},
     "outputs": [
      {
       "metadata": {},
       "output_type": "pyout",
       "prompt_number": 26,
       "text": [
        "(array([   1.,    1.,    6.,    7.,    5.,    5.,    7.,   18.,    6.,\n",
        "          12.,   16.,   13.,   10.,    7.,    6.,    6.,   28.,   37.,\n",
        "          17.,   14.,   10.,    6.,    6.,    5.,    4.,    6.,    3.,\n",
        "           4.,    3.,    3.,    6.,    7.,    6.,   13.,   17.,   30.,\n",
        "          52.,  123.,  157.,  256.,  350.,  378.,  395.,  336.,  216.,\n",
        "         169.,  101.,   53.,   16.,   12.]),\n",
        " array([ 0.05085853,  0.05543917,  0.0600198 ,  0.06460044,  0.06918107,\n",
        "         0.07376171,  0.07834234,  0.08292298,  0.08750361,  0.09208425,\n",
        "         0.09666488,  0.10124552,  0.10582615,  0.11040679,  0.11498742,\n",
        "         0.11956806,  0.12414869,  0.12872932,  0.13330996,  0.13789059,\n",
        "         0.14247123,  0.14705186,  0.1516325 ,  0.15621313,  0.16079377,\n",
        "         0.1653744 ,  0.16995504,  0.17453567,  0.17911631,  0.18369694,\n",
        "         0.18827758,  0.19285821,  0.19743884,  0.20201948,  0.20660011,\n",
        "         0.21118075,  0.21576138,  0.22034202,  0.22492265,  0.22950329,\n",
        "         0.23408392,  0.23866456,  0.24324519,  0.24782583,  0.25240646,\n",
        "         0.2569871 ,  0.26156773,  0.26614836,  0.270729  ,  0.27530963,\n",
        "         0.27989027]),\n",
        " <a list of 50 Patch objects>)"
       ]
      },
      {
       "metadata": {},
       "output_type": "display_data",
       "png": "[encoded data removed]",
       "text": [
        "<matplotlib.figure.Figure at 0x10d688a10>"
       ]
      }
     ],
     "prompt_number": 26
    },
    {
     "cell_type": "code",
     "collapsed": false,
     "input": [
      "mixtape.featurizer.TrajFeatureUnion?"
     ],
     "language": "python",
     "metadata": {},
     "outputs": [],
     "prompt_number": 27
    },
    {
     "cell_type": "code",
     "collapsed": false,
     "input": [
      "import sklearn.pipeline"
     ],
     "language": "python",
     "metadata": {},
     "outputs": [],
     "prompt_number": 28
    },
    {
     "cell_type": "code",
     "collapsed": false,
     "input": [
      "sklearn.pipeline.FeatureUnion?"
     ],
     "language": "python",
     "metadata": {},
     "outputs": [],
     "prompt_number": 29
    },
    {
     "cell_type": "code",
     "collapsed": false,
     "input": [
      "union = mixtape.featurizer.TrajFeatureUnion([(\"RMSD1\", RMSD1), (\"RMSD2\", RMSD2), ('Distance', Distance)])"
     ],
     "language": "python",
     "metadata": {},
     "outputs": [],
     "prompt_number": 30
    },
    {
     "cell_type": "code",
     "collapsed": false,
     "input": [
      "Combined_features = union.fit_transform(traj)"
     ],
     "language": "python",
     "metadata": {},
     "outputs": [],
     "prompt_number": 31
    },
    {
     "cell_type": "code",
     "collapsed": false,
     "input": [
      "import mixtape.cluster"
     ],
     "language": "python",
     "metadata": {},
     "outputs": [],
     "prompt_number": 32
    },
    {
     "cell_type": "code",
     "collapsed": false,
     "input": [
      "cluster = mixtape.cluster.GMM(n_components=3, covariance_type='diag')\n",
      "cluster.fit(traj[::2])"
     ],
     "language": "python",
     "metadata": {},
     "outputs": []
    },
    {
     "cell_type": "code",
     "collapsed": false,
     "input": [],
     "language": "python",
     "metadata": {},
     "outputs": []
    }
   ],
   "metadata": {}
  }
 ]
}